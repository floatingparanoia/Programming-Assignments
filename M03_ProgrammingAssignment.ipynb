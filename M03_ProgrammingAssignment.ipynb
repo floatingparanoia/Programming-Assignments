{
 "cells": [
  {
   "cell_type": "markdown",
   "id": "75cb435d-5244-4070-8813-57ccea86c922",
   "metadata": {},
   "source": [
    "-7.4-"
   ]
  },
  {
   "cell_type": "code",
   "execution_count": 1,
   "id": "2f35a8b5-e951-4073-ab60-f0b1d5231135",
   "metadata": {},
   "outputs": [
    {
     "name": "stdout",
     "output_type": "stream",
     "text": [
      "['mozzarella', 'cinderella', 'salmonella']\n"
     ]
    }
   ],
   "source": [
    "things = [\"mozzarella\", \"cinderella\", \"salmonella\"]\n",
    "print(things)"
   ]
  },
  {
   "cell_type": "markdown",
   "id": "689b15b9-c49b-480c-9a08-ce598f12d39f",
   "metadata": {},
   "source": [
    "-7.5-"
   ]
  },
  {
   "cell_type": "code",
   "execution_count": 7,
   "id": "3f84fd04-e216-4660-be64-d3fa93861fe7",
   "metadata": {},
   "outputs": [
    {
     "name": "stdout",
     "output_type": "stream",
     "text": [
      "['mozzarella', 'Cinderella', 'salmonella']\n"
     ]
    }
   ],
   "source": [
    "things[1] = things[1].capitalize()\n",
    "print(things)"
   ]
  },
  {
   "cell_type": "markdown",
   "id": "041d63c9-6234-46be-9218-924c28f00adc",
   "metadata": {},
   "source": [
    "-7.6-"
   ]
  },
  {
   "cell_type": "code",
   "execution_count": 11,
   "id": "4ea250b1-9cac-40cd-ae15-be4f1af6fabe",
   "metadata": {},
   "outputs": [
    {
     "name": "stdout",
     "output_type": "stream",
     "text": [
      "['MOZZARELLA', 'Cinderella', 'salmonella']\n"
     ]
    }
   ],
   "source": [
    "things[0] = things[0].upper()\n",
    "print(things)"
   ]
  },
  {
   "cell_type": "markdown",
   "id": "cbf993ee-22a4-456a-8266-4dbd136dd396",
   "metadata": {},
   "source": [
    "-7.7-"
   ]
  },
  {
   "cell_type": "code",
   "execution_count": 15,
   "id": "851c1c66-2ea4-4afc-b37b-1ed64ef2ebdb",
   "metadata": {},
   "outputs": [
    {
     "name": "stdout",
     "output_type": "stream",
     "text": [
      "['MOZZARELLA', 'Cinderella']\n"
     ]
    }
   ],
   "source": [
    "del things[2]\n",
    "print(things)"
   ]
  },
  {
   "cell_type": "markdown",
   "id": "bfe593c5-2ef5-47c9-883e-43e8acb5dce2",
   "metadata": {},
   "source": [
    "-9.1-"
   ]
  },
  {
   "cell_type": "code",
   "execution_count": 23,
   "id": "9e035b72-86af-4662-9bf4-4db1aafd3f76",
   "metadata": {},
   "outputs": [],
   "source": [
    "def good():\n",
    "    return['Harry', 'Ron', 'Hermione']\n",
    "   "
   ]
  },
  {
   "cell_type": "code",
   "execution_count": 25,
   "id": "078483a2-7a33-413d-a651-164f29a9b3fb",
   "metadata": {},
   "outputs": [
    {
     "data": {
      "text/plain": [
       "['Harry', 'Ron', 'Hermione']"
      ]
     },
     "execution_count": 25,
     "metadata": {},
     "output_type": "execute_result"
    }
   ],
   "source": [
    "good()"
   ]
  },
  {
   "cell_type": "markdown",
   "id": "26a2bd90-0336-4714-9a73-7327a4cb56b6",
   "metadata": {},
   "source": [
    "-9.2-"
   ]
  },
  {
   "cell_type": "code",
   "execution_count": 68,
   "id": "1bb29641-7a15-406b-b2b9-e246936ecd50",
   "metadata": {},
   "outputs": [
    {
     "name": "stdout",
     "output_type": "stream",
     "text": [
      "5\n"
     ]
    }
   ],
   "source": [
    "def get_odds():\n",
    "    for number in range(10):\n",
    "        if number % 2 != 0:\n",
    "            yield number\n",
    "count = 1\n",
    "for number in get_odds():\n",
    "    if count == 3:\n",
    "        print(number)\n",
    "        break\n",
    "    count +=1\n",
    "    \n",
    "\n",
    "   \n",
    "    "
   ]
  },
  {
   "cell_type": "code",
   "execution_count": null,
   "id": "8fdb669f-6044-4bf4-9f17-0aa1609db629",
   "metadata": {},
   "outputs": [],
   "source": []
  }
 ],
 "metadata": {
  "kernelspec": {
   "display_name": "Python 3 (ipykernel)",
   "language": "python",
   "name": "python3"
  },
  "language_info": {
   "codemirror_mode": {
    "name": "ipython",
    "version": 3
   },
   "file_extension": ".py",
   "mimetype": "text/x-python",
   "name": "python",
   "nbconvert_exporter": "python",
   "pygments_lexer": "ipython3",
   "version": "3.12.4"
  }
 },
 "nbformat": 4,
 "nbformat_minor": 5
}
