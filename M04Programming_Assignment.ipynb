{
 "cells": [
  {
   "cell_type": "markdown",
   "id": "b1a0fffc-e9b2-4b08-bb57-3d67c45042b8",
   "metadata": {},
   "source": [
    "-11.1-"
   ]
  },
  {
   "cell_type": "code",
   "execution_count": 1,
   "id": "aca8594c-2cba-4fe0-9d70-9f34a4aee783",
   "metadata": {},
   "outputs": [],
   "source": [
    "with open('zoo.py', 'w') as file:\n",
    "    file.write(\"\"\"\n",
    "def hours():\n",
    "    print('Open 9-5 Daily')\n",
    "\"\"\")"
   ]
  },
  {
   "cell_type": "code",
   "execution_count": 16,
   "id": "6d21c965-a1cc-45fa-8a52-5f4b3e2875cd",
   "metadata": {},
   "outputs": [
    {
     "name": "stdout",
     "output_type": "stream",
     "text": [
      "Open 9-5 Daily\n"
     ]
    }
   ],
   "source": [
    "import zoo\n",
    "zoo.hours()"
   ]
  },
  {
   "cell_type": "markdown",
   "id": "5c28178e-2923-4d73-ac6d-14634a1e1818",
   "metadata": {},
   "source": [
    "-11.2-"
   ]
  },
  {
   "cell_type": "code",
   "execution_count": 18,
   "id": "be2505c5-40c3-4b48-84f7-158cfd22fd56",
   "metadata": {},
   "outputs": [
    {
     "name": "stdout",
     "output_type": "stream",
     "text": [
      "Open 9-5 Daily\n"
     ]
    }
   ],
   "source": [
    "import zoo as menagerie\n",
    "menagerie.hours()"
   ]
  },
  {
   "cell_type": "markdown",
   "id": "ce5428f1-0694-4cd3-8b31-67226f76f8db",
   "metadata": {},
   "source": [
    "-16.8-"
   ]
  },
  {
   "cell_type": "code",
   "execution_count": 22,
   "id": "7705def2-02fe-4298-8de8-118713d5732e",
   "metadata": {},
   "outputs": [
    {
     "name": "stdout",
     "output_type": "stream",
     "text": [
      "Success!\n"
     ]
    }
   ],
   "source": [
    "# create books2.csv file with data\n",
    "csv_content = \"\"\"title,author,year\n",
    "The Weirdstone of Brisingamen,Alan Garner,1960\n",
    "Perdido Street Station,China Miéville,2000\n",
    "Thud!,Terry Pratchett,2005\n",
    "The Spellman Files,Lisa Lutz,2007\n",
    "Small Gods,Terry Pratchett,1992\n",
    "\"\"\"\n",
    "\n",
    "# write content to books2.csv\n",
    "with open('books2.csv', 'w') as file:\n",
    "    file.write(csv_content)\n",
    "\n",
    "print('Success!')\n"
   ]
  },
  {
   "cell_type": "code",
   "execution_count": 24,
   "id": "bfa4b0de-f18a-4d2a-9165-199578569ca0",
   "metadata": {},
   "outputs": [
    {
     "name": "stdout",
     "output_type": "stream",
     "text": [
      "Create Successfully\n"
     ]
    }
   ],
   "source": [
    "import sqlite3\n",
    "\n",
    "conn = sqlite3.connect('books.db')\n",
    "\n",
    "cursor = conn.cursor()\n",
    "\n",
    "cursor.execute('''CREATE TABLE books (\n",
    "    title TEXT,\n",
    "    author TEXT,\n",
    "    year INTEGER\n",
    ")\n",
    "''')\n",
    "\n",
    "conn.commit()\n",
    "conn.close()\n",
    "\n",
    "print('Create Successfully')"
   ]
  },
  {
   "cell_type": "code",
   "execution_count": 26,
   "id": "848184c7-4f42-44fa-9951-557a70d5000b",
   "metadata": {},
   "outputs": [
    {
     "name": "stdout",
     "output_type": "stream",
     "text": [
      "Data insert Successful\n"
     ]
    }
   ],
   "source": [
    "import sqlite3\n",
    "import csv\n",
    "\n",
    "conn = sqlite3.connect('books.db')\n",
    "cursor = conn.cursor()\n",
    "\n",
    "with open('books2.csv', 'r') as file:\n",
    "    reader = csv.reader(file)\n",
    "\n",
    "    #Skip header row\n",
    "    next(reader)\n",
    "\n",
    "    #insert row into books table\\\n",
    "    for row in reader:\n",
    "        cursor.execute('INSERT INTO books (title, author, year) VALUES (?, ?, ?)', (row[0], row[1], int(row[2])))\n",
    "\n",
    "#commit changes and close connection\n",
    "conn.commit()\n",
    "conn.close()\n",
    "\n",
    "print('Data insert Successful')"
   ]
  },
  {
   "cell_type": "code",
   "execution_count": 54,
   "id": "2fe7c9ef-6434-4a60-b558-a89e5669d618",
   "metadata": {},
   "outputs": [
    {
     "name": "stdout",
     "output_type": "stream",
     "text": [
      "Perdido Street Station\n",
      "Small Gods\n",
      "The Spellman Files\n",
      "The Weirdstone of Brisingamen\n",
      "Thud!\n"
     ]
    }
   ],
   "source": [
    "import sqlalchemy\n",
    "from sqlalchemy import text\n",
    "\n",
    "conn = sqlalchemy.create_engine('sqlite:///books.db')\n",
    "sql = text('SELECT title FROM books ORDER BY title ASC')\n",
    "with conn.connect() as connection:\n",
    "    result = connection.execute(sql)\n",
    "\n",
    "for row in result:\n",
    "    print(row[0])"
   ]
  },
  {
   "cell_type": "code",
   "execution_count": null,
   "id": "e62f4253-b557-47f1-9a26-dfea02f4f080",
   "metadata": {},
   "outputs": [],
   "source": []
  }
 ],
 "metadata": {
  "kernelspec": {
   "display_name": "Python 3 (ipykernel)",
   "language": "python",
   "name": "python3"
  },
  "language_info": {
   "codemirror_mode": {
    "name": "ipython",
    "version": 3
   },
   "file_extension": ".py",
   "mimetype": "text/x-python",
   "name": "python",
   "nbconvert_exporter": "python",
   "pygments_lexer": "ipython3",
   "version": "3.12.4"
  }
 },
 "nbformat": 4,
 "nbformat_minor": 5
}
