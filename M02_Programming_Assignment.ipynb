{
 "cells": [
  {
   "cell_type": "markdown",
   "id": "7b169b4b-d3ce-45f1-a96b-a46ec8b4dc2e",
   "metadata": {},
   "source": [
    "-4.1-"
   ]
  },
  {
   "cell_type": "code",
   "execution_count": 1,
   "id": "30d8aae9-4067-4669-b3d8-5dd065c5deed",
   "metadata": {},
   "outputs": [
    {
     "name": "stdout",
     "output_type": "stream",
     "text": [
      "too high\n"
     ]
    }
   ],
   "source": [
    "secret = 4\n",
    "guess = 6\n",
    "\n",
    "if guess < secret:\n",
    "    print(\"too low\")\n",
    "elif guess > secret:\n",
    "    print(\"too high\")\n",
    "else:\n",
    "    print(\"just right\")\n"
   ]
  },
  {
   "cell_type": "markdown",
   "id": "5dad70c0-d377-45cf-a9d6-0a59bd5ddea0",
   "metadata": {},
   "source": [
    "-4.2-"
   ]
  },
  {
   "cell_type": "code",
   "execution_count": 8,
   "id": "c9912900-b32e-4bc3-9342-e872a17d15a8",
   "metadata": {},
   "outputs": [
    {
     "name": "stdout",
     "output_type": "stream",
     "text": [
      "watermelon\n"
     ]
    }
   ],
   "source": [
    "small = False\n",
    "green = True\n",
    "\n",
    "if small:\n",
    "    if green:\n",
    "        print(\"pea\")\n",
    "    else:\n",
    "        print(\"cherry\")\n",
    "else:\n",
    "    if green:\n",
    "        print(\"watermelon\")\n",
    "    else:\n",
    "        print(\"pumpkin\")"
   ]
  },
  {
   "cell_type": "markdown",
   "id": "ff6914cb-4691-49c6-962c-e83eeaa72064",
   "metadata": {},
   "source": [
    "-6.1-"
   ]
  },
  {
   "cell_type": "code",
   "execution_count": 16,
   "id": "e0860114-fece-4b34-abac-db8ceab0c37d",
   "metadata": {},
   "outputs": [
    {
     "name": "stdout",
     "output_type": "stream",
     "text": [
      "3\n",
      "2\n",
      "1\n",
      "0\n"
     ]
    }
   ],
   "source": [
    "for x in [3,2,1,0]:\n",
    "    print (x)\n",
    "    "
   ]
  },
  {
   "cell_type": "markdown",
   "id": "725a1d09-f33b-4e38-9962-d61329718958",
   "metadata": {},
   "source": [
    "-6.2-"
   ]
  },
  {
   "cell_type": "code",
   "execution_count": 18,
   "id": "3d1376f7-ea17-42f3-90ff-dbb0929e2789",
   "metadata": {},
   "outputs": [
    {
     "name": "stdout",
     "output_type": "stream",
     "text": [
      "too low\n",
      "too low\n",
      "too low\n",
      "too low\n",
      "too low\n",
      "too low\n",
      "found it!\n"
     ]
    }
   ],
   "source": [
    "guess_me = 7\n",
    "number = 1\n",
    "\n",
    "while True:\n",
    "    if number < guess_me:\n",
    "        print(\"too low\")\n",
    "    elif number == guess_me:\n",
    "        print(\"found it!\")\n",
    "        break\n",
    "    else:\n",
    "        print(\"oops\")\n",
    "        break\n",
    "    number += 1"
   ]
  },
  {
   "cell_type": "markdown",
   "id": "7f14c383-8d25-4087-a4cf-f91fc6454b53",
   "metadata": {},
   "source": [
    "-6.3-"
   ]
  },
  {
   "cell_type": "code",
   "execution_count": 20,
   "id": "809ebc73-5bc8-4cd2-95f1-e012000786cf",
   "metadata": {},
   "outputs": [
    {
     "name": "stdout",
     "output_type": "stream",
     "text": [
      "too low\n",
      "too low\n",
      "too low\n",
      "too low\n",
      "too low\n",
      "found it!\n"
     ]
    }
   ],
   "source": [
    "guess_me = 5\n",
    "\n",
    "for number in range(10):\n",
    "    if number < guess_me:\n",
    "        print(\"too low\")\n",
    "    elif number == guess_me:\n",
    "        print(\"found it!\")\n",
    "        break\n",
    "    else:\n",
    "        print(\"oops\")\n",
    "        break"
   ]
  },
  {
   "cell_type": "code",
   "execution_count": null,
   "id": "7025027a-777c-4bd9-b81b-7933b4544d68",
   "metadata": {},
   "outputs": [],
   "source": []
  }
 ],
 "metadata": {
  "kernelspec": {
   "display_name": "Python 3 (ipykernel)",
   "language": "python",
   "name": "python3"
  },
  "language_info": {
   "codemirror_mode": {
    "name": "ipython",
    "version": 3
   },
   "file_extension": ".py",
   "mimetype": "text/x-python",
   "name": "python",
   "nbconvert_exporter": "python",
   "pygments_lexer": "ipython3",
   "version": "3.12.4"
  }
 },
 "nbformat": 4,
 "nbformat_minor": 5
}
