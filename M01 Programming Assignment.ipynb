{
 "cells": [
  {
   "cell_type": "markdown",
   "id": "8dac655e-ec51-49cf-a241-4b9ce325775d",
   "metadata": {},
   "source": [
    "3.1) "
   ]
  },
  {
   "cell_type": "code",
   "execution_count": 1,
   "id": "1db23b95-9aff-48b7-8fd3-f7fb9a3f3a7e",
   "metadata": {},
   "outputs": [
    {
     "data": {
      "text/plain": [
       "3600"
      ]
     },
     "execution_count": 1,
     "metadata": {},
     "output_type": "execute_result"
    }
   ],
   "source": [
    "60 * 60"
   ]
  },
  {
   "cell_type": "markdown",
   "id": "8da3c8b1-2b97-4c75-ab4b-56775d0fb5ab",
   "metadata": {},
   "source": [
    "How Many Seconds are in an Hour? 3600 seconds"
   ]
  },
  {
   "cell_type": "markdown",
   "id": "7757899a-7e9a-4a8c-b0d9-9cad77ef8200",
   "metadata": {},
   "source": [
    "3.2)"
   ]
  },
  {
   "cell_type": "code",
   "execution_count": 10,
   "id": "8ac6c552-4233-466e-8356-c2da49ad4a9a",
   "metadata": {},
   "outputs": [],
   "source": [
    "seconds_per_hour = 60 * 60"
   ]
  },
  {
   "cell_type": "code",
   "execution_count": 12,
   "id": "80c0c222-8b33-4fdf-b579-d5ff74be3e84",
   "metadata": {},
   "outputs": [
    {
     "data": {
      "text/plain": [
       "3600"
      ]
     },
     "execution_count": 12,
     "metadata": {},
     "output_type": "execute_result"
    }
   ],
   "source": [
    "seconds_per_hour"
   ]
  },
  {
   "cell_type": "markdown",
   "id": "ac84b260-4b6e-4ace-95e3-bf12c5eebbfe",
   "metadata": {},
   "source": [
    "3.3)"
   ]
  },
  {
   "cell_type": "code",
   "execution_count": 14,
   "id": "c1f2bb33-2f55-4501-99fa-e2b3b4e7b573",
   "metadata": {},
   "outputs": [
    {
     "data": {
      "text/plain": [
       "86400"
      ]
     },
     "execution_count": 14,
     "metadata": {},
     "output_type": "execute_result"
    }
   ],
   "source": [
    "seconds_per_hour * 24"
   ]
  },
  {
   "cell_type": "markdown",
   "id": "48ef8077-e0d9-411f-855c-10a19ca45826",
   "metadata": {},
   "source": [
    "How many seconds are in a day? 86400 seconds"
   ]
  },
  {
   "cell_type": "markdown",
   "id": "d4f83c2b-1029-43aa-8232-be830b1a87eb",
   "metadata": {},
   "source": [
    "3.4)"
   ]
  },
  {
   "cell_type": "code",
   "execution_count": 16,
   "id": "b9dc57c0-04e7-405c-8920-509df5eb986a",
   "metadata": {},
   "outputs": [],
   "source": [
    "seconds_per_day = seconds_per_hour * 24"
   ]
  },
  {
   "cell_type": "code",
   "execution_count": 18,
   "id": "6f37317f-88a1-4c32-bb20-2aa7a8cc706a",
   "metadata": {},
   "outputs": [
    {
     "data": {
      "text/plain": [
       "86400"
      ]
     },
     "execution_count": 18,
     "metadata": {},
     "output_type": "execute_result"
    }
   ],
   "source": [
    "seconds_per_day"
   ]
  },
  {
   "cell_type": "markdown",
   "id": "bfbc6e2a-8480-4405-b2ca-6c913fe374ab",
   "metadata": {},
   "source": [
    "3.5)"
   ]
  },
  {
   "cell_type": "code",
   "execution_count": 20,
   "id": "33cb3aa5-b249-4097-8f60-ae30e9defc7f",
   "metadata": {},
   "outputs": [
    {
     "data": {
      "text/plain": [
       "24.0"
      ]
     },
     "execution_count": 20,
     "metadata": {},
     "output_type": "execute_result"
    }
   ],
   "source": [
    "seconds_per_day/seconds_per_hour"
   ]
  },
  {
   "cell_type": "markdown",
   "id": "910697cc-08c4-459f-a312-fbfd5fdc346d",
   "metadata": {},
   "source": [
    "3.6)"
   ]
  },
  {
   "cell_type": "code",
   "execution_count": 22,
   "id": "ef4e6c0f-24c2-4678-8634-da81bf185fb9",
   "metadata": {},
   "outputs": [
    {
     "data": {
      "text/plain": [
       "24"
      ]
     },
     "execution_count": 22,
     "metadata": {},
     "output_type": "execute_result"
    }
   ],
   "source": [
    "seconds_per_day//seconds_per_hour"
   ]
  },
  {
   "cell_type": "markdown",
   "id": "4c3e401a-95bd-4cad-b28d-4f3661f7a6dc",
   "metadata": {},
   "source": [
    "Did this number agree with the floating-point value from the previous question, aside from the final .0?\n",
    "Yes it did."
   ]
  }
 ],
 "metadata": {
  "kernelspec": {
   "display_name": "Python 3 (ipykernel)",
   "language": "python",
   "name": "python3"
  },
  "language_info": {
   "codemirror_mode": {
    "name": "ipython",
    "version": 3
   },
   "file_extension": ".py",
   "mimetype": "text/x-python",
   "name": "python",
   "nbconvert_exporter": "python",
   "pygments_lexer": "ipython3",
   "version": "3.12.4"
  }
 },
 "nbformat": 4,
 "nbformat_minor": 5
}
